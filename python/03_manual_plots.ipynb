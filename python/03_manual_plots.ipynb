{
 "cells": [
  {
   "cell_type": "markdown",
   "metadata": {},
   "source": [
    "# Plots in Python manual"
   ]
  },
  {
   "cell_type": "markdown",
   "metadata": {},
   "source": [
    "<a name=\"contents\"></a>\n",
    "# Contents\n",
    "- [Pandas](#pandas)\n",
    "    - [basic](#pdbasic)\n",
    "    - [plot types](#pdtypes)\n",
    "    - [subplots](#pdsubplots)\n",
    "- [MatPlotLib](#matplotlib)\n",
    "    - [plot types](#plttypes)\n",
    "    - [figures and axes](#fax)\n",
    "    - [multiple axis](#mult_ax)\n",
    "    - [Object-Oriented style](#oos)\n",
    "    - [Pyplot style](#ps)\n",
    "    - [function signature (recommended)](#signature)\n",
    "    - [formatting](#formatting)\n",
    "    - [keyword strings (dictionaries)](#keyword)\n",
    "    - [categorical variables](#cat)\n",
    "    - [subplots](#pltsubplots)\n",
    "    - [text](#text)\n",
    "    - [text annotations](#annotations)\n",
    "    - [different axis scales](#scales)\n",
    "    - [save plot as image](#save)\n",
    "- [Seaborn](#seaborn)\n",
    "    - [basic](#snsbasic)\n",
    "    - [plot types](#snstypes)\n",
    "    - [subplots](#snssubplots)"
   ]
  },
  {
   "cell_type": "markdown",
   "metadata": {},
   "source": [
    "---\n",
    "<a name=\"conf\"></a>\n",
    "# Configuration\n",
    "\n",
    "[Return to Contents](#contents)"
   ]
  },
  {
   "cell_type": "code",
   "execution_count": null,
   "metadata": {
    "ExecuteTime": {
     "end_time": "2022-03-24T13:58:25.864970Z",
     "start_time": "2022-03-24T13:58:22.420971Z"
    }
   },
   "outputs": [],
   "source": [
    "import os\n",
    "\n",
    "import numpy as np\n",
    "import pandas as pd\n",
    "import seaborn as sns\n",
    "from matplotlib import pyplot as plt\n",
    "from IPython.display import display, HTML"
   ]
  },
  {
   "cell_type": "code",
   "execution_count": null,
   "metadata": {
    "ExecuteTime": {
     "end_time": "2022-03-24T13:58:26.827320Z",
     "start_time": "2022-03-24T13:58:25.885161Z"
    }
   },
   "outputs": [],
   "source": [
    "pd.set_option('display.max_columns', None)\n",
    "pd.set_option('display.max_colwidth', -1)\n",
    "pd.set_option('display.max_rows', None)\n",
    "\n",
    "display(HTML('<style>.container { width:90% !important; }</style>'))"
   ]
  },
  {
   "cell_type": "code",
   "execution_count": null,
   "metadata": {
    "ExecuteTime": {
     "end_time": "2022-03-24T13:58:25.880416Z",
     "start_time": "2022-03-24T13:58:25.868089Z"
    }
   },
   "outputs": [],
   "source": [
    "%matplotlib inline"
   ]
  },
  {
   "cell_type": "markdown",
   "metadata": {},
   "source": [
    "---\n",
    "<a name=\"pandas\"></a>\n",
    "# Pandas\n",
    "\n",
    "[Return to Contents](#contents)"
   ]
  },
  {
   "cell_type": "code",
   "execution_count": null,
   "metadata": {},
   "outputs": [],
   "source": [
    "x = pd.Series(np.random.randn(100)).cumsum()\n",
    "# x = pd.Series(np.random.randn(100), index=pd.date_range('1/1/2000', periods=100)).cumsum()"
   ]
  },
  {
   "cell_type": "code",
   "execution_count": null,
   "metadata": {},
   "outputs": [],
   "source": [
    "df = pd.read_csv('Data/Titanic/train.csv')\n",
    "df.head()"
   ]
  },
  {
   "cell_type": "markdown",
   "metadata": {},
   "source": [
    "<a name=\"pdbasic\"></a>\n",
    "### basic\n",
    "\n",
    "[Return to Pandas](#pandas)"
   ]
  },
  {
   "cell_type": "code",
   "execution_count": null,
   "metadata": {},
   "outputs": [],
   "source": []
  },
  {
   "cell_type": "markdown",
   "metadata": {},
   "source": [
    "<a name=\"pdtypes\"></a>\n",
    "### plot types\n",
    "\n",
    "[Return to Pandas](#pandas)"
   ]
  },
  {
   "cell_type": "code",
   "execution_count": null,
   "metadata": {},
   "outputs": [],
   "source": [
    "# --------------------- LINE PLOT\n",
    "x.plot();\n",
    "df.groupby('Pclass')['Fare'].agg('mean').reset_index().plot(x='Pclass', y='Fare');"
   ]
  },
  {
   "cell_type": "code",
   "execution_count": null,
   "metadata": {},
   "outputs": [],
   "source": [
    "# --------------------- BAR PLOT\n",
    "df.groupby('Survived').agg('count').reset_index().plot.bar(x='Survived', y='Age');"
   ]
  },
  {
   "cell_type": "code",
   "execution_count": null,
   "metadata": {},
   "outputs": [],
   "source": [
    "# --------------------- HISTOGRAM PLOT\n",
    "df[['Age', 'Sex']].plot.hist();"
   ]
  },
  {
   "cell_type": "code",
   "execution_count": null,
   "metadata": {},
   "outputs": [],
   "source": [
    "# --------------------- SCATTER PLOT\n",
    "df.plot.scatter(x='Age', y='Fare');"
   ]
  },
  {
   "cell_type": "code",
   "execution_count": null,
   "metadata": {},
   "outputs": [],
   "source": [
    "# --------------------- BOXPLOT\n",
    "df.boxplot('Age', vert=False, grid=False, meanline=True, showmeans=True, meanprops=dict(color='red'));"
   ]
  },
  {
   "cell_type": "markdown",
   "metadata": {},
   "source": [
    "<a name=\"pdsubplots\"></a>\n",
    "### subplots\n",
    "\n",
    "[Return to Pandas](#pandas)"
   ]
  },
  {
   "cell_type": "code",
   "execution_count": null,
   "metadata": {},
   "outputs": [],
   "source": [
    "df[['Pclass', 'Fare']].plot.hist(subplots=True);"
   ]
  },
  {
   "cell_type": "code",
   "execution_count": null,
   "metadata": {},
   "outputs": [],
   "source": [
    "# # ax = fig.add_subplot(312)\n",
    "# df[df['Pclass'] == 2][['Age']].plot.hist();\n",
    "\n",
    "# # ax = fig.add_subplot(313)\n",
    "# df[df['Pclass'] == 3][['Age']].plot.hist();"
   ]
  },
  {
   "cell_type": "markdown",
   "metadata": {},
   "source": [
    "---\n",
    "<a name=\"matplotlib\"></a>\n",
    "# MatPlotLib\n",
    "\n",
    "[Return to Contents](#contents)\n",
    "\n",
    "For a gallery of examples have a look at https://matplotlib.org/stable/gallery/index.html  \n",
    "Some examples: https://towardsdatascience.com/a-practical-summary-of-matplotlib-in-13-python-snippets-4d07f0011bdf"
   ]
  },
  {
   "cell_type": "code",
   "execution_count": null,
   "metadata": {},
   "outputs": [],
   "source": [
    "x = np.random.normal(0, 1, 130)\n",
    "max(x), min(x)"
   ]
  },
  {
   "cell_type": "markdown",
   "metadata": {},
   "source": [
    "<a name=\"pltbasic\"></a>\n",
    "### basic\n",
    "\n",
    "[Return to MatPlotLib](#matplotlib)\n",
    "\n",
    "REMEMBER to always put a semicolon (;) at the end of the statement to prevent showing data about the plot"
   ]
  },
  {
   "cell_type": "code",
   "execution_count": null,
   "metadata": {},
   "outputs": [],
   "source": [
    "# create figure\n",
    "fig, axs = plt.subplots(figsize=(15, 7))\n",
    "\n",
    "# get the current axes instance of the current figure\n",
    "axs = plt.gca()\n",
    "\n",
    "# plot data\n",
    "axs.plot(x, marker='o')\n",
    "\n",
    "# set axis limit\n",
    "axs.set_xlim(1, 100)\n",
    "axs.set_ylim(-3, 3)\n",
    "# revert axis\n",
    "axs.set_xlim(axs.get_xlim()[::-1])\n",
    "axs.set_ylim(axs.get_xlim()[::-1])\n",
    "\n",
    "# add ticks labels to axes\n",
    "x_ax = np.arange(0, 100, 10)\n",
    "y_ax = np.arange(-3, 3, 1)\n",
    "# set custom ticks to axis\n",
    "axs.set_xticks(x_ax)\n",
    "axs.set_yticks(y_ax)\n",
    "# set custom ticks labels to axis (optionally rotate ticks labels)\n",
    "axs.set_xticklabels(labels=x_ax, rotation=45)\n",
    "axs.set_yticklabels(labels=y_ax, rotation=45)\n",
    "# remove axis ticks labels\n",
    "axs.axes.xaxis.set_ticklabels([])\n",
    "axs.axes.yaxis.set_ticklabels([])\n",
    "\n",
    "# add labels to axes\n",
    "axs.set_xlabel('X-axis')\n",
    "axs.set_ylabel('Y-axis')\n",
    "\n",
    "# legend\n",
    "axs.legend(loc='right')\n",
    "\n",
    "# add title\n",
    "axs.set_title('TITLE')\n",
    "\n",
    "# add grid\n",
    "axs.grid('on');"
   ]
  },
  {
   "cell_type": "markdown",
   "metadata": {},
   "source": [
    "<a name=\"plttypes\"></a>\n",
    "### plot types\n",
    "\n",
    "[Return to MatPlotLib](#matplotlib)"
   ]
  },
  {
   "cell_type": "code",
   "execution_count": null,
   "metadata": {},
   "outputs": [],
   "source": [
    "# --------------------- LINE PLOT\n",
    "plt.plot(df['x'], df['y'])\n",
    "\n",
    "# --------------------- BAR PLOT\n",
    "# you have to provide x and y values\n",
    "plt.bar(df2['month'], df2['median_tot'])\n",
    "\n",
    "# --------------------- HISTOGRAM PLOT\n",
    "# you provide a list of values and a nr of bins\n",
    "plt.hist(df1, bins=50)\n",
    "\n",
    "# --------------------- BOXPLOT\n",
    "plt.boxplot(df['x'], vert=False)\n",
    "# to plot mean and median legend in a plt figure (here the class can be a plt figure or an ax)\n",
    "# plt.plot([], [], '--', linewidth=1, color='red', label='mean')\n",
    "# plt.plot([], [], '-', linewidth=1, color='orange', label='median')\n",
    "# plt.legend();"
   ]
  },
  {
   "cell_type": "markdown",
   "metadata": {},
   "source": [
    "<a name=\"fax\"></a>\n",
    "### figures and axes\n",
    "\n",
    "[Return to MatPlotLib](#matplotlib)"
   ]
  },
  {
   "cell_type": "code",
   "execution_count": null,
   "metadata": {},
   "outputs": [],
   "source": [
    "# create data\n",
    "data1 = np.random.normal(0, 1, 100)\n",
    "data2 = np.random.normal(0, 1, 100)\n",
    "data3 = np.random.normal(0, 1, 100)\n",
    "\n",
    "# create figure\n",
    "fig, axs = plt.subplots(figsize=(15, 7)) \n",
    "\n",
    "# plot data\n",
    "axs.plot(data1, marker='o')\n",
    "axs.plot(data2, marker='*')\n",
    "axs.plot(data3, marker='^')\n",
    "\n",
    "# add ticks to axes\n",
    "x_ax = np.arange(0, 100, 10)\n",
    "y_ax = np.arange(-3, 3, 1)\n",
    "axs.set_xticks(x_ax)\n",
    "axs.set_xticklabels(labels=x_ax, rotation=45)\n",
    "axs.set_yticks(y_ax)\n",
    "axs.set_yticklabels(labels=y_ax, rotation=45)\n",
    "\n",
    "# add labels to axes\n",
    "axs.set_xlabel('X label')\n",
    "axs.set_ylabel('Y label')\n",
    "\n",
    "# add title\n",
    "axs.set_title'Title')\n",
    "\n",
    "# add grid\n",
    "axs.grid('on')"
   ]
  },
  {
   "cell_type": "markdown",
   "metadata": {},
   "source": [
    "<a name=\"oos\"></a>\n",
    "### Object-Oriented style\n",
    "\n",
    "[Return to MatPlotLib](#matplotlib)\n",
    "\n",
    "Create figures and axes explicitly, and call methods on them."
   ]
  },
  {
   "cell_type": "code",
   "execution_count": null,
   "metadata": {},
   "outputs": [],
   "source": [
    "# create data\n",
    "x = np.cos(np.linspace(0, 2, 100))\n",
    "\n",
    "# Note that even in the OO-style, we use `.pyplot.figure` to create the figure.\n",
    "fig, ax = plt.subplots()\n",
    "ax.plot(x, x, label='linear')\n",
    "ax.plot(x, x**2, label='quadratic')\n",
    "ax.plot(x, x**3, label='cubic')\n",
    "ax.set_xlabel('x label')\n",
    "ax.set_ylabel('y label')\n",
    "ax.set_title('Simple Plot')\n",
    "ax.legend();\n",
    "# the \";\" at the end avoid printing matplotlib.legend.Legend obj"
   ]
  },
  {
   "cell_type": "markdown",
   "metadata": {},
   "source": [
    "<a name=\"mult_ax\"></a>\n",
    "### multiple axis\n",
    "\n",
    "[Return to MatPlotLib](#matplotlib)"
   ]
  },
  {
   "cell_type": "code",
   "execution_count": null,
   "metadata": {},
   "outputs": [],
   "source": [
    "plt.figure(figsize=(30,5*nr_plots))\n",
    "\n",
    "ax = plt.subplot(1,1,1)\n",
    "plt.plot(df['ds'], df[f'{channel_vars[i]}_spend'])\n",
    "# sns.lineplot(data=df, x='ds', y=f'{channel_vars[i]}_spend', label='Spend', color=sns.color_palette()[0])\n",
    "ax2 = ax.twinx()\n",
    "plt.plot(df['ds'], df[f'{channel_vars[i]}_incr])\n",
    "# sns.lineplot(data=df, x='ds', y=f'{channel_vars[i]}_incr', label='Incremental Sales', color=sns.color_palette()[1], ax=ax2)\n",
    "ax.legend(loc=0)\n",
    "ax2.legend(loc=2)\n",
    "ax.set_xlabel('')\n",
    "ax.set_ylabel('')\n",
    "ax2.set_ylabel('')"
   ]
  },
  {
   "cell_type": "markdown",
   "metadata": {},
   "source": [
    "### dates on x axis"
   ]
  },
  {
   "cell_type": "code",
   "execution_count": null,
   "metadata": {},
   "outputs": [],
   "source": [
    "import matplotlib.dates as mdates\n",
    "\n",
    "\n",
    "fig, ax = plt.subplots(figsize = (30,5))\n",
    "plt.plot(tar_au['week_end_date'], tar_au['HA Sales (Amount)'])\n",
    "# sns.lineplot(data=tar_au, x='week_end_date', y='HA Sales (Amount)', label='sales amount', ax=ax);\n",
    "\n",
    "locator = mdates.MonthLocator(bymonth=[1,2,3,4,5,6,7,8,9,10,11,12])\n",
    "ax.xaxis.set_minor_locator(locator)\n",
    "ax.xaxis.set_minor_formatter(mdates.ConciseDateFormatter(locator))\n",
    "ax.xaxis.set_major_formatter(mdates.DateFormatter('%b\\n%Y'))"
   ]
  },
  {
   "cell_type": "markdown",
   "metadata": {},
   "source": [
    "<a name=\"ps\"></a>\n",
    "### Pyplot style\n",
    "\n",
    "[Return to MatPlotLib](#matplotlib)\n",
    "\n",
    "Rely on the pyplot module to automatically create and manage the figures and axes."
   ]
  },
  {
   "cell_type": "code",
   "execution_count": null,
   "metadata": {},
   "outputs": [],
   "source": [
    "x = np.cos(np.linspace(0, 2, 100))\n",
    "\n",
    "plt.plot(x, x, label='linear')\n",
    "plt.plot(x, x**2, label='quadratic')\n",
    "plt.plot(x, x**3, label='cubic')\n",
    "plt.xlabel('x label')\n",
    "plt.ylabel('y label')\n",
    "plt.title('Simple Plot')\n",
    "plt.legend();"
   ]
  },
  {
   "cell_type": "markdown",
   "metadata": {},
   "source": [
    "The examples from Matplotlib’s documentation use both approaches, but highlight that it is preferable to pick one of them and stick to it.  \n",
    "The suggestion is to restrict pyplot to interactive plotting (e.g., in a Jupyter notebook), and to prefer the OO-style for non-interactive plotting."
   ]
  },
  {
   "cell_type": "markdown",
   "metadata": {},
   "source": [
    "<a name=\"signature\"></a>\n",
    "### function signature (recommended)\n",
    "\n",
    "[Return to MatPlotLib](#matplotlib)\n",
    "\n",
    "source: https://matplotlib.org/stable/tutorials/introductory/usage.html#sphx-glr-tutorials-introductory-usage-py"
   ]
  },
  {
   "cell_type": "code",
   "execution_count": null,
   "metadata": {},
   "outputs": [],
   "source": [
    "def my_plotter(ax, data1, data2, param_dict):\n",
    "    out = ax.plot(data1, data2, **param_dict)\n",
    "    return out\n",
    "\n",
    "data1, data2, data3, data4 = np.random.randn(4, 100)\n",
    "fig, ax = plt.subplots(1, 1)\n",
    "my_plotter(ax, data1, data2, {'marker': 'x'})\n",
    "\n",
    "fig, (ax1, ax2) = plt.subplots(1, 2)\n",
    "my_plotter(ax1, data1, data2, {'marker': 'x'})\n",
    "my_plotter(ax2, data3, data4, {'marker': 'o'});"
   ]
  },
  {
   "cell_type": "markdown",
   "metadata": {},
   "source": [
    "### formatting\n",
    "\n",
    "[Return to MatPlotLib](#matplotlib)"
   ]
  },
  {
   "cell_type": "code",
   "execution_count": null,
   "metadata": {},
   "outputs": [],
   "source": [
    "t = np.sin(np.linspace(-3, 3, 50))\n",
    "# red dashes, blue squares and green triangles\n",
    "plt.plot(t, t, 'r--', color='red')\n",
    "plt.plot(t, t**2, 'bs', color='blue')\n",
    "plt.plot(t, t**3, 'g^', color='green')\n",
    "plt.plot(t, t**4, 'o', color='orange')\n",
    "plt.plot(t, t**5, 'o-', color='black')\n",
    "plt.show()"
   ]
  },
  {
   "cell_type": "markdown",
   "metadata": {},
   "source": [
    "<a name=\"keyword\"></a>\n",
    "### keyword strings (dictionaries)\n",
    "\n",
    "[Return to MatPlotLib](#matplotlib)\n",
    "\n",
    "source: https://matplotlib.org/stable/gallery/misc/keyword_plotting.html"
   ]
  },
  {
   "cell_type": "code",
   "execution_count": null,
   "metadata": {},
   "outputs": [],
   "source": [
    "data = {\n",
    "    'a': np.arange(50),\n",
    "    'c': np.random.randint(0, 50, 50),\n",
    "    'd': np.random.randn(50)\n",
    "}\n",
    "\n",
    "data['b'] = data['a'] + 10 * np.random.randn(50)\n",
    "data['d'] = np.abs(data['d']) * 100\n",
    "plt.scatter('a', 'b', c='c', s='d', data=data)\n",
    "plt.xlabel('entry a')\n",
    "plt.ylabel('entry b')\n",
    "plt.show()"
   ]
  },
  {
   "cell_type": "markdown",
   "metadata": {},
   "source": [
    "<a name=\"cat\"></a>\n",
    "### categorical variables\n",
    "\n",
    "[Return to MatPlotLib](#matplotlib)"
   ]
  },
  {
   "cell_type": "code",
   "execution_count": null,
   "metadata": {},
   "outputs": [],
   "source": [
    "names = ['cats', 'dogs', 'dragons']\n",
    "values = [5, 25, 125]\n",
    "plt.figure(figsize=(15, 7))\n",
    "plt.subplot(131)\n",
    "plt.bar(names, values, color='red', label='bar chart')\n",
    "plt.legend()\n",
    "plt.subplot(132)\n",
    "plt.scatter(names, values, color='orange', label='scatter plot')\n",
    "plt.legend()\n",
    "plt.subplot(133)\n",
    "plt.plot(names, values, color='green', label'line plot')\n",
    "plt.legend()\n",
    "plt.suptitle('Categorical Plots')\n",
    "plt.show()"
   ]
  },
  {
   "cell_type": "markdown",
   "metadata": {},
   "source": [
    "<a name=\"pltsubplots\"></a>\n",
    "### subplots\n",
    "\n",
    "[Return to MatPlotLib](#matplotlib)"
   ]
  },
  {
   "cell_type": "code",
   "execution_count": null,
   "metadata": {
    "ExecuteTime": {
     "end_time": "2022-03-24T13:58:30.643908Z",
     "start_time": "2022-03-24T13:58:29.997065Z"
    }
   },
   "outputs": [],
   "source": [
    "def f(t):\n",
    "    return np.exp(-t) * np.cos(2*np.pi*t)\n",
    "\n",
    "t1 = np.arange(0.0, 5.0, 0.1)\n",
    "t2 = np.arange(0.0, 5.0, 0.2)\n",
    "\n",
    "plt.figure(figsize=(10,5))\n",
    "\n",
    "plt.subplot(2,2,1)\n",
    "plt.plot(t1, f(t1), 'black')\n",
    "\n",
    "plt.subplot(2,2,2)\n",
    "plt.plot(t2, np.tan(2 * np.pi * t2), 'r--')\n",
    "\n",
    "plt.subplot(2,2,3)\n",
    "plt.plot(t2, np.exp(t2), 'g^')\n",
    "\n",
    "plt.subplot(2,2,4)\n",
    "plt.plot(t2, np.cos(2 * np.pi * t2), 'orange');"
   ]
  },
  {
   "cell_type": "code",
   "execution_count": null,
   "metadata": {
    "ExecuteTime": {
     "end_time": "2022-03-24T13:59:06.672060Z",
     "start_time": "2022-03-24T13:59:06.306559Z"
    }
   },
   "outputs": [],
   "source": [
    "def f(t):\n",
    "    return np.exp(-t) * np.cos(2*np.pi*t)\n",
    "\n",
    "t1 = np.arange(0.0, 5.0, 0.1)\n",
    "t2 = np.arange(0.0, 5.0, 0.2)\n",
    "\n",
    "plt.figure(figsize=(10,5))\n",
    "\n",
    "ax = plt.subplot(2,1,1)\n",
    "ax.plot(t1, f(t1), 'black', label='plt1')\n",
    "ax.plot(t2, np.tan(2*np.pi*t2), 'r--', label='plt2')\n",
    "ax.legend()\n",
    "ax.set_title('title')\n",
    "\n",
    "ax = plt.subplot(2,1,2)\n",
    "ax.plot(t2, np.exp(t2), 'g^')\n",
    "ax.plot(t2, np.cos(2*np.pi*t2), 'orange');"
   ]
  },
  {
   "cell_type": "markdown",
   "metadata": {},
   "source": [
    "You can use figure numbers to create multiple figures."
   ]
  },
  {
   "cell_type": "code",
   "execution_count": null,
   "metadata": {},
   "outputs": [],
   "source": [
    "plt.figure(1)\n",
    "plt.subplot(121)\n",
    "plt.plot([1, 2, 3])\n",
    "plt.subplot(122)\n",
    "plt.plot([4, 5, 2]);"
   ]
  },
  {
   "cell_type": "markdown",
   "metadata": {},
   "source": [
    "You can add subplots to an existing figure."
   ]
  },
  {
   "cell_type": "code",
   "execution_count": null,
   "metadata": {},
   "outputs": [],
   "source": [
    "# you can specify plot size\n",
    "fig = plt.figure(figsize=(10, 5))\n",
    "\n",
    "# you can define whichever number of subplots and shema\n",
    "ax1 = fig.add_subplot(211)\n",
    "# you can plot matplotlibs or also pandas graphs\n",
    "plt.plot([1, 2, 3])\n",
    "ax1.set_title('Plot 1')\n",
    "\n",
    "ax2 = fig.add_subplot(212)\n",
    "plt.bar([1, 2, 3], [4, 5, 6]);\n",
    "ax2.set_title('Plot 2')\n",
    "\n",
    "# remember this\n",
    "plt.show()"
   ]
  },
  {
   "cell_type": "markdown",
   "metadata": {},
   "source": [
    "### text\n",
    "\n",
    "[Return to MatPlotLib](#matplotlib)\n",
    "\n",
    "source: https://matplotlib.org/stable/tutorials/introductory/pyplot.html#sphx-glr-tutorials-introductory-pyplot-py"
   ]
  },
  {
   "cell_type": "code",
   "execution_count": null,
   "metadata": {},
   "outputs": [],
   "source": [
    "mu, sigma = 100, 15\n",
    "x = mu + sigma * np.random.randn(10000)\n",
    "\n",
    "# the histogram of the data\n",
    "n, bins, patches = plt.hist(x, 50, density=1, facecolor='g', alpha=0.75)\n",
    "plt.xlabel('Smarts')\n",
    "plt.ylabel('Probability')\n",
    "plt.title('Histogram of IQ')\n",
    "plt.text(60, .025, r'$\\mu=100,\\ \\sigma=15$')\n",
    "plt.axis([40, 160, 0, 0.03])\n",
    "plt.grid(True)\n",
    "plt.show()"
   ]
  },
  {
   "cell_type": "markdown",
   "metadata": {},
   "source": [
    "<a name=\"annotations\"></a>\n",
    "### text annotations\n",
    "\n",
    "[Return to MatPlotLib](#matplotlib)\n",
    "\n",
    "source: https://matplotlib.org/stable/tutorials/text/annotations.html"
   ]
  },
  {
   "cell_type": "code",
   "execution_count": null,
   "metadata": {},
   "outputs": [],
   "source": [
    "ax = plt.subplot()\n",
    "\n",
    "t = np.arange(0.0, 5.0, 0.01)\n",
    "s = np.cos(2 * np.pi * t)\n",
    "line, = plt.plot(t, s, lw=2)\n",
    "plt.annotate('local max', xy=(2, 1), xytext=(3, 1.5), arrowprops=dict(facecolor='black', shrink=0.05))\n",
    "plt.ylim(-2, 2)\n",
    "plt.show()"
   ]
  },
  {
   "cell_type": "markdown",
   "metadata": {},
   "source": [
    "<a name=\"scales\"></a>\n",
    "### different axis scales\n",
    "\n",
    "[Return to MatPlotLib](#matplotlib)\n",
    "\n",
    "adapted from: https://matplotlib.org/stable/tutorials/introductory/pyplot.html#sphx-glr-tutorials-introductory-pyplot-py"
   ]
  },
  {
   "cell_type": "code",
   "execution_count": null,
   "metadata": {},
   "outputs": [],
   "source": [
    "# make up some data in the open interval (0, 1)\n",
    "y = np.random.normal(loc=0.5, scale=0.4, size=1000)\n",
    "y = y[(y > 0) & (y < 1)]\n",
    "y.sort()\n",
    "x = np.arange(len(y))\n",
    "\n",
    "# plot with various axes scales\n",
    "plt.figure()\n",
    "\n",
    "# linear\n",
    "plt.subplot(221)\n",
    "plt.plot(x, y, color='red')\n",
    "plt.yscale('linear')\n",
    "plt.title('linear', color='red')\n",
    "plt.grid(True)\n",
    "\n",
    "# log\n",
    "plt.subplot(222)\n",
    "plt.plot(x, y, color='green')\n",
    "plt.yscale('log')\n",
    "plt.title('log', color='green')\n",
    "plt.grid(True)\n",
    "\n",
    "# symmetric log\n",
    "plt.subplot(223)\n",
    "plt.plot(x, y - y.mean(),color='blue')\n",
    "plt.yscale('symlog', linthresh=0.01)\n",
    "plt.title('symlog', color='blue')\n",
    "plt.grid(True)\n",
    "\n",
    "# logit\n",
    "plt.subplot(224)\n",
    "plt.plot(x, y, color='orange')\n",
    "plt.yscale('logit')\n",
    "plt.title('logit', color='orange')\n",
    "plt.grid(True)\n",
    "# Adjust the subplot layout, because the logit one may take more space\n",
    "# than usual, due to y-tick labels like \"1 - 10^{-3}\"\n",
    "plt.subplots_adjust(top=0.92, bottom=0.08, left=0.10, right=0.95, hspace=0.25, wspace=0.35)\n",
    "plt.tight_layout()\n",
    "plt.show()"
   ]
  },
  {
   "cell_type": "markdown",
   "metadata": {},
   "source": [
    "<a name=\"save\"></a>\n",
    "### save plot as image\n",
    "\n",
    "[Return to MatPlotLib](#matplotlib)"
   ]
  },
  {
   "cell_type": "code",
   "execution_count": null,
   "metadata": {},
   "outputs": [],
   "source": [
    "# make up some data in the open interval (0, 1)\n",
    "y = np.random.normal(loc=0.5, scale=0.4, size=1000)\n",
    "y = y[(y > 0) & (y < 1)]\n",
    "y.sort()\n",
    "x = np.arange(len(y))\n",
    "\n",
    "# plot with various axes scales\n",
    "plt.figure()\n",
    "\n",
    "# linear\n",
    "plt.plot(x, y, color='red')\n",
    "plt.yscale('linear')\n",
    "plt.title('linear', color='red')\n",
    "plt.grid(True)\n",
    "plt.savefig('sample_plot.png')"
   ]
  },
  {
   "cell_type": "markdown",
   "metadata": {},
   "source": [
    "---\n",
    "<a name=\"seaborn\"></a>\n",
    "# Seaborn\n",
    "\n",
    "[Return to Contents](#contents)\n",
    "\n",
    "Seaborn functions usually accept as input data either a dataframe structure or series objects.  \n",
    "It is preferred to use dataframe approach."
   ]
  },
  {
   "cell_type": "code",
   "execution_count": null,
   "metadata": {},
   "outputs": [],
   "source": [
    "tips = sns.load_dataset('tips')\n",
    "tips.head()"
   ]
  },
  {
   "cell_type": "markdown",
   "metadata": {},
   "source": [
    "<a name=\"snsbasic\"></a>\n",
    "### basic\n",
    "\n",
    "[Return to Seaborn](#seaborn)\n",
    "\n",
    "For most basic methods you can specify data through parameter data and then specifying the column or insted by simply passing the column serie extracted from the df."
   ]
  },
  {
   "cell_type": "code",
   "execution_count": null,
   "metadata": {},
   "outputs": [],
   "source": [
    "ax = sns.lmplot(data=tips, x='total_bill', y='tip')\n",
    "ax.set_title('This is the title')\n",
    "ax.set_ylabel('y_label');"
   ]
  },
  {
   "cell_type": "markdown",
   "metadata": {},
   "source": [
    "<a name=\"snstypes\"></a>\n",
    "### plot types\n",
    "\n",
    "[Return to Seaborn](#seaborn)"
   ]
  },
  {
   "cell_type": "code",
   "execution_count": null,
   "metadata": {},
   "outputs": [],
   "source": [
    "# --------------------- HISTOGRAM PLOT\n",
    "# dataframe approach\n",
    "sns.histplot(data=tips, x='total_bill');\n",
    "# # series approach\n",
    "# sns.histplot(x=tips['total_bill']);\n",
    "\n",
    "# to plot horizontally\n",
    "sns.histplot(data=tips, y='total_bill');\n",
    "\n",
    "# to specify bins\n",
    "sns.histplot(data=tips, x='total_bill', binwidth=3);\n",
    "sns.histplot(data=tips, x='total_bill', bins=20);\n",
    "\n",
    "# to color based on other data features use hue\n",
    "sns.histplot(data=tips, x='total_bill', hue='sex');\n",
    "\n",
    "# to add a kernel density to plot\n",
    "sns.histplot(data=tips, x='total_bill', kde=True);"
   ]
  },
  {
   "cell_type": "code",
   "execution_count": null,
   "metadata": {},
   "outputs": [],
   "source": [
    "# --------------------- SCATTER PLOT\n",
    "sns.lmplot(data=tips, x='total_bill', y='tip', fit_reg=False);\n",
    "\n",
    "# NOTE: this function is actually a method to fit regression line to data that has been tweak to hide the estimated regression line\n",
    "# to plot it simply use the following\n",
    "sns.lmplot(data=tips, x='total_bill', y='tip');\n",
    "\n",
    "# to color by other data feature use hue\n",
    "sns.lmplot(data=tips, x='total_bill', y='tip', fit_reg=False, hue='sex');"
   ]
  },
  {
   "cell_type": "code",
   "execution_count": null,
   "metadata": {},
   "outputs": [],
   "source": [
    "# --------------------- BOXPLOT\n",
    "sns.boxplot(data=tips);\n",
    "sns.boxplot(data=tips, x='total_bill');"
   ]
  },
  {
   "cell_type": "code",
   "execution_count": null,
   "metadata": {},
   "outputs": [],
   "source": [
    "# --------------------- VIOLIN PLOT\n",
    "sns.violinplot(data=tips);\n",
    "sns.violinplot(data=tips, x='total_bill');"
   ]
  },
  {
   "cell_type": "code",
   "execution_count": null,
   "metadata": {},
   "outputs": [],
   "source": [
    "# --------------------- HEATMAP\n",
    "sns.heatmap(tips.corr());"
   ]
  },
  {
   "cell_type": "markdown",
   "metadata": {},
   "source": [
    "<a name=\"snssubplots\"></a>\n",
    "### subplots\n",
    "\n",
    "[Return to Seaborn](#seaborn)"
   ]
  },
  {
   "cell_type": "code",
   "execution_count": null,
   "metadata": {},
   "outputs": [],
   "source": [
    "fig, axes = plt.subplots(1, 2, figsize=(40, 5))\n",
    "\n",
    "sns.histplot(ax=axes[0], data=full_df, x='tip', bins=20)\n",
    "axes[0].set_title('Tip distribution')\n",
    "\n",
    "sns.histplot(ax=axes[1], data=full_df, x='sex', bins=50)\n",
    "axes[1].set_title('Sex distribution');"
   ]
  },
  {
   "cell_type": "code",
   "execution_count": null,
   "metadata": {},
   "outputs": [],
   "source": [
    "plt.figure(figsize=(15, 7))\n",
    "\n",
    "ax = plt.subplot(211)\n",
    "sns.histplot(data=tips, x='tip', hue='sex')\n",
    "ax.set_title('Tip distribution')\n",
    "\n",
    "ax = plt.subplot(212)\n",
    "sns.histplot(data=tips, x='total_bill', hue='sex')\n",
    "ax.set_title('Total bill distribution');"
   ]
  }
 ],
 "metadata": {
  "kernelspec": {
   "display_name": "Python 3 (ipykernel)",
   "language": "python",
   "name": "python3"
  },
  "language_info": {
   "codemirror_mode": {
    "name": "ipython",
    "version": 3
   },
   "file_extension": ".py",
   "mimetype": "text/x-python",
   "name": "python",
   "nbconvert_exporter": "python",
   "pygments_lexer": "ipython3",
   "version": "3.10.13"
  }
 },
 "nbformat": 4,
 "nbformat_minor": 4
}
